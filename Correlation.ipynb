{
 "cells": [
  {
   "cell_type": "code",
   "execution_count": 4,
   "id": "3f11461e-a2f5-4211-89ae-f8d71b5afb3a",
   "metadata": {
    "tags": []
   },
   "outputs": [
    {
     "name": "stdout",
     "output_type": "stream",
     "text": [
      "              Lower_Class  Middle_Class  High_Class  Sexual_Harassment_Cases\n",
      "Country Year                                                                \n",
      "USA     2015        56875          1075       11543                   368921\n",
      "        2017          855         60219        5678                   363393\n",
      "        2020          919         52696       10526                   298628\n",
      "ARG     2015          444          7783       10569                    12637\n",
      "        2017         7695         10371         411                    10552\n",
      "        2020          293          3164       10985                    20950\n",
      "Spain   2015         2648          8817        9999                     6823\n",
      "        2017         2625          8778       10077                     8018\n",
      "        2020         2102          7383        9183                    10798\n"
     ]
    }
   ],
   "source": [
    "import pandas as pd\n",
    "data = {\n",
    "    \"Country\": [\"USA\", \"USA\", \"USA\", \"ARG\", \"ARG\", \"ARG\", \"Spain\", \"Spain\", \"Spain\"],\n",
    "    \"Year\": [2015, 2017, 2020]*3,\n",
    "    \"Lower_Class\": [56875,855 , 919, 444, 7695, 293, 2648, 2625, 2102],\n",
    "    \"Middle_Class\": [1075, 60219, 52696, 7783, 10371, 3164, 8817, 8778, 7383],\n",
    "    \"High_Class\": [11543, 5678, 10526, 10569, 411, 10985, 9999, 10077, 9183],\n",
    "    \"Sexual_Harassment_Cases\": [368921, 363393, 298628, 12637, 10552, 20950, 6823, 8018, 10798]\n",
    "}\n",
    "\n",
    "df = pd.DataFrame(data)\n",
    "\n",
    "# Set the index to Country and Year\n",
    "df.set_index([\"Country\", \"Year\"], inplace=True)\n",
    "\n",
    "print(df)\n"
   ]
  },
  {
   "cell_type": "code",
   "execution_count": 6,
   "id": "ecb4f235-bf93-430d-a1ac-8b64bb880adb",
   "metadata": {
    "tags": []
   },
   "outputs": [
    {
     "name": "stdout",
     "output_type": "stream",
     "text": [
      "Correlation between Lower CLass and Sexual Harassment Cases: 0.513574197460038\n",
      "Correlation between Middle Class and Sexual Harassment Cases: 0.6368238378762546\n",
      "Correlation between Higher Class and Sexual Harassment Cases: 0.08868584519071104\n"
     ]
    }
   ],
   "source": [
    "correlation_low_income = df[\"Lower_Class\"].corr(df[\"Sexual_Harassment_Cases\"])\n",
    "correlation_middle_income = df[\"Middle_Class\"].corr(df[\"Sexual_Harassment_Cases\"])\n",
    "correlation_high_income = df[\"High_Class\"].corr(df[\"Sexual_Harassment_Cases\"])\n",
    "\n",
    "print(\"Correlation between Lower CLass and Sexual Harassment Cases:\", correlation_low_income)\n",
    "print(\"Correlation between Middle Class and Sexual Harassment Cases:\", correlation_middle_income)\n",
    "print(\"Correlation between Higher Class and Sexual Harassment Cases:\", correlation_high_income)"
   ]
  },
  {
   "cell_type": "code",
   "execution_count": null,
   "id": "a48cdef3-1e8c-44c8-93f8-8c8ce60bcc30",
   "metadata": {},
   "outputs": [],
   "source": []
  }
 ],
 "metadata": {
  "kernelspec": {
   "display_name": "Python 3 (ipykernel)",
   "language": "python",
   "name": "python3"
  },
  "language_info": {
   "codemirror_mode": {
    "name": "ipython",
    "version": 3
   },
   "file_extension": ".py",
   "mimetype": "text/x-python",
   "name": "python",
   "nbconvert_exporter": "python",
   "pygments_lexer": "ipython3",
   "version": "3.10.9"
  }
 },
 "nbformat": 4,
 "nbformat_minor": 5
}
